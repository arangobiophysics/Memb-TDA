{
 "cells": [
  {
   "cell_type": "code",
   "execution_count": 1,
   "id": "2fffc1cf",
   "metadata": {},
   "outputs": [],
   "source": [
    "import persim\n",
    "import ripser\n",
    "import MDAnalysis as mda\n",
    "import argparse\n",
    "from typing import *\n",
    "import functools\n",
    "import itertools "
   ]
  },
  {
   "cell_type": "code",
   "execution_count": 2,
   "id": "f95ffb33",
   "metadata": {},
   "outputs": [],
   "source": [
    "u = mda.Universe(\"/Scr/arango/Sobolev-Hyun/test_simulations/RMSD_OC_IF/run_rmsd/justprotein_ev100frames_CA.psf\", \"/Scr/arango/Sobolev-Hyun/test_simulations/RMSD_OC_IF/run_rmsd/justprotein_ev100frames_CA.dcd\")\n",
    "\n"
   ]
  },
  {
   "cell_type": "code",
   "execution_count": null,
   "id": "3104b5ed",
   "metadata": {
    "scrolled": true
   },
   "outputs": [
    {
     "name": "stdout",
     "output_type": "stream",
     "text": [
      "0\n"
     ]
    }
   ],
   "source": [
    "#Very slow, multiprocessing?\n",
    "x=[]\n",
    "for ts in u.trajectory:\n",
    "    print(ts.frame)\n",
    "    Pa1 =  u.select_atoms(\"all\")\n",
    "    R1 = ripser.ripser(Pa1.atoms.positions, maxdim=2)['dgms']\n",
    "    x.append(R1)"
   ]
  },
  {
   "cell_type": "code",
   "execution_count": null,
   "id": "60ee5767",
   "metadata": {},
   "outputs": [],
   "source": [
    "y=[]\n",
    "for i in range(len(x)):\n",
    "    perwas = persim.wasserstein(x[0][2], x[i][2])\n",
    "    y.append(perwas)"
   ]
  },
  {
   "cell_type": "code",
   "execution_count": null,
   "id": "8661e2c9",
   "metadata": {},
   "outputs": [],
   "source": [
    "z=[]\n",
    "for i in range(len(x)):\n",
    "    print(i)\n",
    "    j=i+1\n",
    "    perwas = persim.wasserstein(x[i], x[j])\n",
    "    z.append(perwas)"
   ]
  },
  {
   "cell_type": "code",
   "execution_count": null,
   "id": "b223bf4d",
   "metadata": {},
   "outputs": [],
   "source": [
    "import matplotlib.pyplot as plt\n",
    "plt.plot(y[1:])\n",
    "plt.show()"
   ]
  },
  {
   "cell_type": "code",
   "execution_count": null,
   "id": "8ef68e9e",
   "metadata": {},
   "outputs": [],
   "source": [
    "plt.plot(z)\n",
    "plt.show()"
   ]
  },
  {
   "cell_type": "code",
   "execution_count": 22,
   "id": "6d1af608",
   "metadata": {},
   "outputs": [
    {
     "name": "stdout",
     "output_type": "stream",
     "text": [
      "0\n"
     ]
    },
    {
     "ename": "IndexError",
     "evalue": "list index out of range",
     "output_type": "error",
     "traceback": [
      "\u001b[0;31m---------------------------------------------------------------------------\u001b[0m",
      "\u001b[0;31mIndexError\u001b[0m                                Traceback (most recent call last)",
      "\u001b[0;32m<ipython-input-22-5e8b0d45d418>\u001b[0m in \u001b[0;36m<module>\u001b[0;34m()\u001b[0m\n\u001b[1;32m      3\u001b[0m     \u001b[0mprint\u001b[0m\u001b[0;34m(\u001b[0m\u001b[0mts\u001b[0m\u001b[0;34m.\u001b[0m\u001b[0mframe\u001b[0m\u001b[0;34m)\u001b[0m\u001b[0;34m\u001b[0m\u001b[0;34m\u001b[0m\u001b[0m\n\u001b[1;32m      4\u001b[0m     \u001b[0mPa1\u001b[0m \u001b[0;34m=\u001b[0m  \u001b[0mu\u001b[0m\u001b[0;34m.\u001b[0m\u001b[0mselect_atoms\u001b[0m\u001b[0;34m(\u001b[0m\u001b[0;34m\"all\"\u001b[0m\u001b[0;34m)\u001b[0m\u001b[0;34m\u001b[0m\u001b[0;34m\u001b[0m\u001b[0m\n\u001b[0;32m----> 5\u001b[0;31m     \u001b[0mR1\u001b[0m \u001b[0;34m=\u001b[0m \u001b[0mripser\u001b[0m\u001b[0;34m.\u001b[0m\u001b[0mripser\u001b[0m\u001b[0;34m(\u001b[0m\u001b[0mPa1\u001b[0m\u001b[0;34m.\u001b[0m\u001b[0matoms\u001b[0m\u001b[0;34m.\u001b[0m\u001b[0mpositions\u001b[0m\u001b[0;34m)\u001b[0m\u001b[0;34m[\u001b[0m\u001b[0;34m'dgms'\u001b[0m\u001b[0;34m]\u001b[0m\u001b[0;34m[\u001b[0m\u001b[0;36m2\u001b[0m\u001b[0;34m]\u001b[0m\u001b[0;34m\u001b[0m\u001b[0;34m\u001b[0m\u001b[0m\n\u001b[0m\u001b[1;32m      6\u001b[0m     \u001b[0mx\u001b[0m\u001b[0;34m.\u001b[0m\u001b[0mappend\u001b[0m\u001b[0;34m(\u001b[0m\u001b[0mR1\u001b[0m\u001b[0;34m)\u001b[0m\u001b[0;34m\u001b[0m\u001b[0;34m\u001b[0m\u001b[0m\n",
      "\u001b[0;31mIndexError\u001b[0m: list index out of range"
     ]
    }
   ],
   "source": [
    "x=[]\n",
    "for ts in u.trajectory:\n",
    "    print(ts.frame)\n",
    "    Pa1 =  u.select_atoms(\"all\")\n",
    "    R1 = ripser.ripser(Pa1.atoms.positions)['dgms'][2]\n",
    "    x.append(R1)"
   ]
  }
 ],
 "metadata": {
  "kernelspec": {
   "display_name": "Python 3",
   "language": "python",
   "name": "python3"
  },
  "language_info": {
   "codemirror_mode": {
    "name": "ipython",
    "version": 3
   },
   "file_extension": ".py",
   "mimetype": "text/x-python",
   "name": "python",
   "nbconvert_exporter": "python",
   "pygments_lexer": "ipython3",
   "version": "3.6.13"
  }
 },
 "nbformat": 4,
 "nbformat_minor": 5
}
